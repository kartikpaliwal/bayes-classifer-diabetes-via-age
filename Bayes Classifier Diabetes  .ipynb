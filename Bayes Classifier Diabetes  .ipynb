{
 "cells": [
  {
   "cell_type": "code",
   "execution_count": 24,
   "metadata": {},
   "outputs": [
    {
     "data": {
      "text/plain": [
       "79.88365694520871"
      ]
     },
     "execution_count": 24,
     "metadata": {},
     "output_type": "execute_result"
    }
   ],
   "source": [
    "import pandas as pd\n",
    "import numpy as np\n",
    "import requests\n",
    "import io\n",
    "\n",
    "url=\"https://raw.githubusercontent.com/kartikpaliwal/bays-classifer-diabetes-via-age/master/diabetic_data.csv\"\n",
    "s=requests.get(url).content\n",
    "AllData=pd.read_csv(io.StringIO(s.decode('utf-8')))\n",
    "\n",
    "TrainingData = AllData[0:int(0.75*len(AllData))]\n",
    "TestingData = AllData[(int(0.75*len(AllData))):] \n",
    "\n",
    "Age = list(TrainingData.AgeMean)\n",
    "diabetesMed = list(TrainingData.diabetesMed)\n",
    "\n",
    "\n",
    "\n",
    "DataDivideAgeOne = []\n",
    "DataDivideAgeZero = []\n",
    "def Agex():\n",
    "    for i in range(len(diabetesMed)):\n",
    "        if diabetesMed[i] == 1:\n",
    "            DataDivideAgeOne.append(Age[i])\n",
    "        else:\n",
    "            DataDivideAgeZero.append(Age[i])\n",
    "Agex()\n",
    "\n",
    "def MLE(n):\n",
    "    diabetesSquare = 0\n",
    "    for i in range(len(n)):\n",
    "        diabetesSquare +=(n[i]**2)\n",
    "    return((1/(2*len(n))*diabetesSquare))   \n",
    "\n",
    "MLE1 = MLE(DataDivideAgeOne)\n",
    "MLE0 = MLE(DataDivideAgeZero)\n",
    "def PdfRayleigh(x, MLE):\n",
    "    return ((x/((MLE)))*(np.e)**(-(np.square(x))/(2*((MLE)))))\n",
    "\n",
    "\n",
    "#testing \n",
    " \n",
    "Age_t = list(TestingData.AgeMean)\n",
    "diabetesMed_t = list(TestingData.diabetesMed)\n",
    "\n",
    "DataDivideAgeOne_t = []\n",
    "DataDivideAgeZero_t = []\n",
    "def Agex_t():\n",
    "    for i in range(len(diabetesMed_t)):\n",
    "        if diabetesMed_t[i] == 1:\n",
    "            DataDivideAgeOne_t.append(Age_t[i])\n",
    "        else:\n",
    "            DataDivideAgeZero_t.append(Age_t[i])\n",
    "Agex_t()\n",
    "\n",
    "ana = []\n",
    "ananot = []\n",
    "for r in range (0,len(TestingData)):\n",
    "    UserAge = (Age_t[r])\n",
    "    a1 = PdfRayleigh(UserAge, MLE1)*(len(DataDivideAgeOne_t)/len(TestingData))\n",
    "    b1 = a1 + PdfRayleigh(UserAge, MLE0)*(len(DataDivideAgeZero_t)/len(TestingData))\n",
    "    n1 = a1/b1\n",
    "    a2 = PdfRayleigh(UserAge, MLE0)*(len(DataDivideAgeZero_t)/len(TestingData))\n",
    "    b2 = a2 + PdfRayleigh(UserAge, MLE1)*(len(DataDivideAgeOne_t)/len(TestingData))\n",
    "    n2 = a2/b2\n",
    "    if n1 >= n2:    \n",
    "       Diabetes_out = 1\n",
    "    else :\n",
    "       Diabetes_out = 0\n",
    "    if Diabetes_out == diabetesMed_t[r]:\n",
    "        ana.append(1) \n",
    "    else:\n",
    "        ananot.append(0)\n",
    "        \n",
    "accuracy = ((len(ana))/len(Age_t)*100)\n",
    "\n",
    "accuracy"
   ]
  },
  {
   "cell_type": "code",
   "execution_count": null,
   "metadata": {},
   "outputs": [],
   "source": []
  }
 ],
 "metadata": {
  "kernelspec": {
   "display_name": "Python 3",
   "language": "python",
   "name": "python3"
  },
  "language_info": {
   "codemirror_mode": {
    "name": "ipython",
    "version": 3
   },
   "file_extension": ".py",
   "mimetype": "text/x-python",
   "name": "python",
   "nbconvert_exporter": "python",
   "pygments_lexer": "ipython3",
   "version": "3.6.4"
  }
 },
 "nbformat": 4,
 "nbformat_minor": 2
}
